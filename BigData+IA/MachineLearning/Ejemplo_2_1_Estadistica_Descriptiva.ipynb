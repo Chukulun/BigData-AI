{
  "nbformat": 4,
  "nbformat_minor": 0,
  "metadata": {
    "colab": {
      "provenance": []
    },
    "kernelspec": {
      "name": "python3",
      "display_name": "Python 3"
    },
    "language_info": {
      "name": "python"
    }
  },
  "cells": [
    {
      "cell_type": "markdown",
      "metadata": {
        "id": "JNlEk7ihS-5l"
      },
      "source": [
        "# **Ejemplo 1:** Estadística descriptiva de datos continuos"
      ]
    },
    {
      "cell_type": "code",
      "metadata": {
        "id": "ZXs_JcsqTF59",
        "colab": {
          "base_uri": "https://localhost:8080/"
        },
        "outputId": "c2248544-46c1-43f5-b28f-164ce110a67a"
      },
      "source": [
        "# LIBRERÍAS EMPLEADAS EN EL EJEMPLO\n",
        "# Tratamiento de datos\n",
        "# ==============================================================================\n",
        "# Importamos la librería numpy para poder generar datos aleatorios\n",
        "# de una distribución normal de media y desviacióón estándar dada\n",
        "# y para calcular estadísticos descriptivos básicos\n",
        "import numpy as np\n",
        "import pandas as pd\n",
        "# Gráficos\n",
        "# ==============================================================================\n",
        "import matplotlib.pyplot as plt\n",
        "# Generación de datos\n",
        "# ==============================================================================\n",
        "muA, sigmaA = 1000, 1 # media y desviación estándar embotelladora A\n",
        "muB, sigmaB = 1000, 4 # media y desviación estándar embotelladora B\n",
        "datosA = np.random.normal(muA, sigmaA, 1000)\n",
        "datosB = np.random.normal(muB, sigmaB, 1000)\n",
        "datos=np.column_stack((datosA, datosB))\n",
        "datos"
      ],
      "execution_count": null,
      "outputs": [
        {
          "output_type": "execute_result",
          "data": {
            "text/plain": [
              "array([[ 999.41289005,  998.51170024],\n",
              "       [1000.23765319, 1002.33212578],\n",
              "       [ 998.55193555,  996.85962133],\n",
              "       ...,\n",
              "       [ 998.85029538,  993.32973418],\n",
              "       [ 999.72049798,  995.39179545],\n",
              "       [ 998.6377472 , 1002.09564164]])"
            ]
          },
          "metadata": {},
          "execution_count": 1
        }
      ]
    },
    {
      "cell_type": "markdown",
      "metadata": {
        "id": "kM_zG0p1kQ-K"
      },
      "source": [
        "Calculamos la media muestral"
      ]
    },
    {
      "cell_type": "code",
      "metadata": {
        "id": "lp-HpxhcT742",
        "colab": {
          "base_uri": "https://localhost:8080/"
        },
        "outputId": "cba91b9d-0bc5-4925-b688-ca2f1f2bb6b2"
      },
      "source": [
        "np.mean(datos,axis=0) # Calcula la media aritmetica de los datos,\n",
        "                      # (por columnas)"
      ],
      "execution_count": null,
      "outputs": [
        {
          "output_type": "execute_result",
          "data": {
            "text/plain": [
              "array([1000.02960762,  999.85699308])"
            ]
          },
          "metadata": {},
          "execution_count": 2
        }
      ]
    },
    {
      "cell_type": "markdown",
      "metadata": {
        "id": "ot21XwgLS4GH"
      },
      "source": [
        "Observar que la media muestral está cerca de la media de la población $\\mu_A =\\mu_B=1000$. Ambas embotelladoras embotellan un litro (1000 ml)"
      ]
    },
    {
      "cell_type": "code",
      "metadata": {
        "id": "eaoODf7QZ6R2",
        "colab": {
          "base_uri": "https://localhost:8080/"
        },
        "outputId": "3b61b159-36af-43a6-c284-ed8b4a8a0851"
      },
      "source": [
        "# Desviación estándar (por columnas, axis=0)\n",
        "np.std(datos,axis=0)"
      ],
      "execution_count": null,
      "outputs": [
        {
          "output_type": "execute_result",
          "data": {
            "text/plain": [
              "array([1.02510516, 3.96401613])"
            ]
          },
          "metadata": {},
          "execution_count": 3
        }
      ]
    },
    {
      "cell_type": "markdown",
      "metadata": {
        "id": "bsx5iQDZgHhw"
      },
      "source": [
        "Observar que se obtiene un valor aproximado a la desviación típica de la poblacióón $\\sigma_A=1$ y $\\sigma_B=4$"
      ]
    },
    {
      "cell_type": "code",
      "metadata": {
        "id": "19X3zM2BTn9b",
        "colab": {
          "base_uri": "https://localhost:8080/",
          "height": 300
        },
        "outputId": "7d7c87a3-d170-48a0-b508-c432a0e4ca40"
      },
      "source": [
        "Data = pd.DataFrame(datos, columns=['Embotelladora_A', 'Embotelladora_B'])\n",
        "Data.describe()"
      ],
      "execution_count": null,
      "outputs": [
        {
          "output_type": "execute_result",
          "data": {
            "text/html": [
              "<div>\n",
              "<style scoped>\n",
              "    .dataframe tbody tr th:only-of-type {\n",
              "        vertical-align: middle;\n",
              "    }\n",
              "\n",
              "    .dataframe tbody tr th {\n",
              "        vertical-align: top;\n",
              "    }\n",
              "\n",
              "    .dataframe thead th {\n",
              "        text-align: right;\n",
              "    }\n",
              "</style>\n",
              "<table border=\"1\" class=\"dataframe\">\n",
              "  <thead>\n",
              "    <tr style=\"text-align: right;\">\n",
              "      <th></th>\n",
              "      <th>Embotelladora_A</th>\n",
              "      <th>Embotelladora_B</th>\n",
              "    </tr>\n",
              "  </thead>\n",
              "  <tbody>\n",
              "    <tr>\n",
              "      <th>count</th>\n",
              "      <td>1000.000000</td>\n",
              "      <td>1000.000000</td>\n",
              "    </tr>\n",
              "    <tr>\n",
              "      <th>mean</th>\n",
              "      <td>1000.029608</td>\n",
              "      <td>999.856993</td>\n",
              "    </tr>\n",
              "    <tr>\n",
              "      <th>std</th>\n",
              "      <td>1.025618</td>\n",
              "      <td>3.966000</td>\n",
              "    </tr>\n",
              "    <tr>\n",
              "      <th>min</th>\n",
              "      <td>996.808132</td>\n",
              "      <td>988.042365</td>\n",
              "    </tr>\n",
              "    <tr>\n",
              "      <th>25%</th>\n",
              "      <td>999.307083</td>\n",
              "      <td>997.358795</td>\n",
              "    </tr>\n",
              "    <tr>\n",
              "      <th>50%</th>\n",
              "      <td>1000.051092</td>\n",
              "      <td>999.728206</td>\n",
              "    </tr>\n",
              "    <tr>\n",
              "      <th>75%</th>\n",
              "      <td>1000.738080</td>\n",
              "      <td>1002.446048</td>\n",
              "    </tr>\n",
              "    <tr>\n",
              "      <th>max</th>\n",
              "      <td>1003.271338</td>\n",
              "      <td>1012.670502</td>\n",
              "    </tr>\n",
              "  </tbody>\n",
              "</table>\n",
              "</div>"
            ],
            "text/plain": [
              "       Embotelladora_A  Embotelladora_B\n",
              "count      1000.000000      1000.000000\n",
              "mean       1000.029608       999.856993\n",
              "std           1.025618         3.966000\n",
              "min         996.808132       988.042365\n",
              "25%         999.307083       997.358795\n",
              "50%        1000.051092       999.728206\n",
              "75%        1000.738080      1002.446048\n",
              "max        1003.271338      1012.670502"
            ]
          },
          "metadata": {},
          "execution_count": 4
        }
      ]
    },
    {
      "cell_type": "markdown",
      "metadata": {
        "id": "AZB-1nSmWbJ3"
      },
      "source": [
        "Vamos a realizar un histograma de las variables para identificar visualmente su media muestral y su desviación estándar"
      ]
    },
    {
      "cell_type": "code",
      "metadata": {
        "id": "0y6FUrwLUipt",
        "colab": {
          "base_uri": "https://localhost:8080/",
          "height": 295
        },
        "outputId": "74dbc070-15aa-4659-bae3-f2914cf956fb"
      },
      "source": [
        "plt.hist(datos, 50)\n",
        "plt.ylabel('Número de datos')\n",
        "plt.xlabel('valores')\n",
        "plt.title('Histograma')\n",
        "plt.show()"
      ],
      "execution_count": null,
      "outputs": [
        {
          "output_type": "display_data",
          "data": {
            "image/png": "[encoded data removed]",
            "text/plain": [
              "<Figure size 432x288 with 1 Axes>"
            ]
          },
          "metadata": {
            "needs_background": "light"
          }
        }
      ]
    },
    {
      "cell_type": "code",
      "source": [
        "df = pd.DataFrame(data = datos)\n",
        "df"
      ],
      "metadata": {
        "colab": {
          "base_uri": "https://localhost:8080/",
          "height": 424
        },
        "id": "0C-8g_YVgP9S",
        "outputId": "66810c53-693c-49a6-a5c0-007ec89ffa08"
      },
      "execution_count": null,
      "outputs": [
        {
          "output_type": "execute_result",
          "data": {
            "text/plain": [
              "               0            1\n",
              "0     999.412890   998.511700\n",
              "1    1000.237653  1002.332126\n",
              "2     998.551936   996.859621\n",
              "3     999.820746   995.718419\n",
              "4     999.988696  1004.048167\n",
              "..           ...          ...\n",
              "995   999.776225   996.434432\n",
              "996  1002.340821   997.219424\n",
              "997   998.850295   993.329734\n",
              "998   999.720498   995.391795\n",
              "999   998.637747  1002.095642\n",
              "\n",
              "[1000 rows x 2 columns]"
            ],
            "text/html": [
              "\n",
              "  <div id=\"df-7209c222-6292-44e5-99fc-26a8d5bef339\">\n",
              "    <div class=\"colab-df-container\">\n",
              "      <div>\n",
              "<style scoped>\n",
              "    .dataframe tbody tr th:only-of-type {\n",
              "        vertical-align: middle;\n",
              "    }\n",
              "\n",
              "    .dataframe tbody tr th {\n",
              "        vertical-align: top;\n",
              "    }\n",
              "\n",
              "    .dataframe thead th {\n",
              "        text-align: right;\n",
              "    }\n",
              "</style>\n",
              "<table border=\"1\" class=\"dataframe\">\n",
              "  <thead>\n",
              "    <tr style=\"text-align: right;\">\n",
              "      <th></th>\n",
              "      <th>0</th>\n",
              "      <th>1</th>\n",
              "    </tr>\n",
              "  </thead>\n",
              "  <tbody>\n",
              "    <tr>\n",
              "      <th>0</th>\n",
              "      <td>999.412890</td>\n",
              "      <td>998.511700</td>\n",
              "    </tr>\n",
              "    <tr>\n",
              "      <th>1</th>\n",
              "      <td>1000.237653</td>\n",
              "      <td>1002.332126</td>\n",
              "    </tr>\n",
              "    <tr>\n",
              "      <th>2</th>\n",
              "      <td>998.551936</td>\n",
              "      <td>996.859621</td>\n",
              "    </tr>\n",
              "    <tr>\n",
              "      <th>3</th>\n",
              "      <td>999.820746</td>\n",
              "      <td>995.718419</td>\n",
              "    </tr>\n",
              "    <tr>\n",
              "      <th>4</th>\n",
              "      <td>999.988696</td>\n",
              "      <td>1004.048167</td>\n",
              "    </tr>\n",
              "    <tr>\n",
              "      <th>...</th>\n",
              "      <td>...</td>\n",
              "      <td>...</td>\n",
              "    </tr>\n",
              "    <tr>\n",
              "      <th>995</th>\n",
              "      <td>999.776225</td>\n",
              "      <td>996.434432</td>\n",
              "    </tr>\n",
              "    <tr>\n",
              "      <th>996</th>\n",
              "      <td>1002.340821</td>\n",
              "      <td>997.219424</td>\n",
              "    </tr>\n",
              "    <tr>\n",
              "      <th>997</th>\n",
              "      <td>998.850295</td>\n",
              "      <td>993.329734</td>\n",
              "    </tr>\n",
              "    <tr>\n",
              "      <th>998</th>\n",
              "      <td>999.720498</td>\n",
              "      <td>995.391795</td>\n",
              "    </tr>\n",
              "    <tr>\n",
              "      <th>999</th>\n",
              "      <td>998.637747</td>\n",
              "      <td>1002.095642</td>\n",
              "    </tr>\n",
              "  </tbody>\n",
              "</table>\n",
              "<p>1000 rows × 2 columns</p>\n",
              "</div>\n",
              "      <button class=\"colab-df-convert\" onclick=\"convertToInteractive('df-7209c222-6292-44e5-99fc-26a8d5bef339')\"\n",
              "              title=\"Convert this dataframe to an interactive table.\"\n",
              "              style=\"display:none;\">\n",
              "        \n",
              "  <svg xmlns=\"http://www.w3.org/2000/svg\" height=\"24px\"viewBox=\"0 0 24 24\"\n",
              "       width=\"24px\">\n",
              "    <path d=\"M0 0h24v24H0V0z\" fill=\"none\"/>\n",
              "    <path d=\"M18.56 5.44l.94 2.06.94-2.06 2.06-.94-2.06-.94-.94-2.06-.94 2.06-2.06.94zm-11 1L8.5 8.5l.94-2.06 2.06-.94-2.06-.94L8.5 2.5l-.94 2.06-2.06.94zm10 10l.94 2.06.94-2.06 2.06-.94-2.06-.94-.94-2.06-.94 2.06-2.06.94z\"/><path d=\"M17.41 7.96l-1.37-1.37c-.4-.4-.92-.59-1.43-.59-.52 0-1.04.2-1.43.59L10.3 9.45l-7.72 7.72c-.78.78-.78 2.05 0 2.83L4 21.41c.39.39.9.59 1.41.59.51 0 1.02-.2 1.41-.59l7.78-7.78 2.81-2.81c.8-.78.8-2.07 0-2.86zM5.41 20L4 18.59l7.72-7.72 1.47 1.35L5.41 20z\"/>\n",
              "  </svg>\n",
              "      </button>\n",
              "      \n",
              "  <style>\n",
              "    .colab-df-container {\n",
              "      display:flex;\n",
              "      flex-wrap:wrap;\n",
              "      gap: 12px;\n",
              "    }\n",
              "\n",
              "    .colab-df-convert {\n",
              "      background-color: #E8F0FE;\n",
              "      border: none;\n",
              "      border-radius: 50%;\n",
              "      cursor: pointer;\n",
              "      display: none;\n",
              "      fill: #1967D2;\n",
              "      height: 32px;\n",
              "      padding: 0 0 0 0;\n",
              "      width: 32px;\n",
              "    }\n",
              "\n",
              "    .colab-df-convert:hover {\n",
              "      background-color: #E2EBFA;\n",
              "      box-shadow: 0px 1px 2px rgba(60, 64, 67, 0.3), 0px 1px 3px 1px rgba(60, 64, 67, 0.15);\n",
              "      fill: #174EA6;\n",
              "    }\n",
              "\n",
              "    [theme=dark] .colab-df-convert {\n",
              "      background-color: #3B4455;\n",
              "      fill: #D2E3FC;\n",
              "    }\n",
              "\n",
              "    [theme=dark] .colab-df-convert:hover {\n",
              "      background-color: #434B5C;\n",
              "      box-shadow: 0px 1px 3px 1px rgba(0, 0, 0, 0.15);\n",
              "      filter: drop-shadow(0px 1px 2px rgba(0, 0, 0, 0.3));\n",
              "      fill: #FFFFFF;\n",
              "    }\n",
              "  </style>\n",
              "\n",
              "      <script>\n",
              "        const buttonEl =\n",
              "          document.querySelector('#df-7209c222-6292-44e5-99fc-26a8d5bef339 button.colab-df-convert');\n",
              "        buttonEl.style.display =\n",
              "          google.colab.kernel.accessAllowed ? 'block' : 'none';\n",
              "\n",
              "        async function convertToInteractive(key) {\n",
              "          const element = document.querySelector('#df-7209c222-6292-44e5-99fc-26a8d5bef339');\n",
              "          const dataTable =\n",
              "            await google.colab.kernel.invokeFunction('convertToInteractive',\n",
              "                                                     [key], {});\n",
              "          if (!dataTable) return;\n",
              "\n",
              "          const docLinkHtml = 'Like what you see? Visit the ' +\n",
              "            '<a target=\"_blank\" href=https://colab.research.google.com/notebooks/data_table.ipynb>data table notebook</a>'\n",
              "            + ' to learn more about interactive tables.';\n",
              "          element.innerHTML = '';\n",
              "          dataTable['output_type'] = 'display_data';\n",
              "          await google.colab.output.renderOutput(dataTable, element);\n",
              "          const docLink = document.createElement('div');\n",
              "          docLink.innerHTML = docLinkHtml;\n",
              "          element.appendChild(docLink);\n",
              "        }\n",
              "      </script>\n",
              "    </div>\n",
              "  </div>\n",
              "  "
            ]
          },
          "metadata": {},
          "execution_count": 10
        }
      ]
    }
  ]
}